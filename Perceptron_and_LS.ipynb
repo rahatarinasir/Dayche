{
  "cells": [
    {
      "cell_type": "markdown",
      "metadata": {
        "id": "view-in-github",
        "colab_type": "text"
      },
      "source": [
        "<a href=\"https://colab.research.google.com/github/rahatarinasir/Dayche/blob/master/Perceptron_and_LS.ipynb\" target=\"_parent\"><img src=\"https://colab.research.google.com/assets/colab-badge.svg\" alt=\"Open In Colab\"/></a>"
      ]
    },
    {
      "cell_type": "markdown",
      "metadata": {
        "id": "BidafxAIo0CM"
      },
      "source": [
        "# Linear Classification"
      ]
    },
    {
      "cell_type": "markdown",
      "metadata": {
        "id": "gkd6U4Mro0CS"
      },
      "source": [
        "## Initialization"
      ]
    },
    {
      "cell_type": "code",
      "execution_count": null,
      "metadata": {
        "id": "_YE-RW6jo0CW"
      },
      "outputs": [],
      "source": [
        "import numpy as np\n",
        "import matplotlib.pyplot as plt\n",
        "from sklearn.metrics import confusion_matrix"
      ]
    },
    {
      "cell_type": "markdown",
      "metadata": {
        "id": "0DUkOfF_o0Cc"
      },
      "source": [
        "## Data generation"
      ]
    },
    {
      "cell_type": "code",
      "execution_count": null,
      "metadata": {
        "id": "4yjsUpkuo0Cf",
        "outputId": "23a9df14-9e14-46c7-fea0-a02f0d810de8"
      },
      "outputs": [
        {
          "name": "stdout",
          "output_type": "stream",
          "text": [
            "[1.97227706 2.02505839 1.        ]\n",
            "[3.94791075 3.97267458 1.        ]\n"
          ]
        }
      ],
      "source": [
        "np.random.seed(200)\n",
        "N = 1000\n",
        "X1 = np.hstack((2 + np.random.randn(N, 2), (np.ones((N, 1)))))\n",
        "X2 = np.hstack((4 + np.random.randn(N, 2), (np.ones((N, 1)))))\n",
        "X = np.vstack((X1, X2))\n",
        "y1, y2 = np.ones((N, 1)), -np.ones((N, 1))\n",
        "y_train = np.vstack((y1, y2))\n",
        "data_matrix = np.hstack((X, y_train))\n",
        "X_test_1 = np.hstack((2 + np.random.randn(N, 2), (np.ones((N, 1)))))\n",
        "X_test_2 = np.hstack((4 + np.random.randn(N, 2), (np.ones((N, 1)))))\n",
        "X_test = np.vstack((X_test_1, X_test_2))\n",
        "y1, y2 = np.ones((N, 1)), -np.ones((N, 1))\n",
        "y_test = np.vstack((y1, y2))\n",
        "print(np.mean(X1, axis=0))\n",
        "print(np.mean(X2, axis=0))\n"
      ]
    },
    {
      "cell_type": "markdown",
      "metadata": {
        "id": "avar61CZo0Ck"
      },
      "source": [
        "## Perceptron"
      ]
    },
    {
      "cell_type": "code",
      "execution_count": null,
      "metadata": {
        "id": "qqKO2JIKo0Cn",
        "outputId": "0019625e-2e8a-45f0-d2e0-bf64cfe6f9e4"
      },
      "outputs": [
        {
          "name": "stdout",
          "output_type": "stream",
          "text": [
            "epoch 1\n",
            "miss classified 33\n",
            "epoch 2\n",
            "miss classified 11\n",
            "epoch 3\n",
            "miss classified 10\n",
            "epoch 4\n",
            "miss classified 10\n",
            "epoch 5\n",
            "miss classified 10\n",
            "epoch 6\n",
            "miss classified 11\n",
            "epoch 7\n",
            "miss classified 12\n",
            "epoch 8\n",
            "miss classified 10\n",
            "epoch 9\n",
            "miss classified 11\n",
            "epoch 10\n",
            "miss classified 12\n",
            "epoch 11\n",
            "miss classified 10\n",
            "epoch 12\n",
            "miss classified 10\n",
            "epoch 13\n",
            "miss classified 11\n",
            "epoch 14\n",
            "miss classified 12\n",
            "epoch 15\n",
            "miss classified 10\n",
            "epoch 16\n",
            "miss classified 11\n",
            "epoch 17\n",
            "miss classified 10\n",
            "epoch 18\n",
            "miss classified 11\n",
            "epoch 19\n",
            "miss classified 12\n",
            "epoch 20\n",
            "miss classified 10\n",
            "epoch 21\n",
            "miss classified 10\n",
            "epoch 22\n",
            "miss classified 11\n",
            "epoch 23\n",
            "miss classified 10\n",
            "epoch 24\n",
            "miss classified 10\n",
            "epoch 25\n",
            "miss classified 10\n",
            "epoch 26\n",
            "miss classified 11\n",
            "epoch 27\n",
            "miss classified 10\n",
            "epoch 28\n",
            "miss classified 11\n",
            "epoch 29\n",
            "miss classified 10\n",
            "epoch 30\n",
            "miss classified 10\n",
            "epoch 31\n",
            "miss classified 9\n",
            "epoch 32\n",
            "miss classified 10\n",
            "epoch 33\n",
            "miss classified 11\n",
            "epoch 34\n",
            "miss classified 10\n",
            "epoch 35\n",
            "miss classified 10\n",
            "epoch 36\n",
            "miss classified 10\n",
            "epoch 37\n",
            "miss classified 9\n",
            "epoch 38\n",
            "miss classified 10\n",
            "epoch 39\n",
            "miss classified 10\n",
            "epoch 40\n",
            "miss classified 9\n",
            "epoch 41\n",
            "miss classified 10\n",
            "epoch 42\n",
            "miss classified 10\n",
            "epoch 43\n",
            "miss classified 8\n",
            "epoch 44\n",
            "miss classified 9\n",
            "epoch 45\n",
            "miss classified 9\n",
            "epoch 46\n",
            "miss classified 9\n",
            "epoch 47\n",
            "miss classified 10\n",
            "epoch 48\n",
            "miss classified 10\n",
            "epoch 49\n",
            "miss classified 8\n",
            "epoch 50\n",
            "miss classified 9\n",
            "epoch 51\n",
            "miss classified 9\n",
            "epoch 52\n",
            "miss classified 9\n",
            "epoch 53\n",
            "miss classified 10\n",
            "epoch 54\n",
            "miss classified 10\n",
            "epoch 55\n",
            "miss classified 8\n",
            "epoch 56\n",
            "miss classified 9\n",
            "epoch 57\n",
            "miss classified 9\n",
            "epoch 58\n",
            "miss classified 9\n",
            "epoch 59\n",
            "miss classified 10\n",
            "epoch 60\n",
            "miss classified 10\n",
            "epoch 61\n",
            "miss classified 10\n",
            "epoch 62\n",
            "miss classified 9\n",
            "epoch 63\n",
            "miss classified 9\n",
            "epoch 64\n",
            "miss classified 9\n",
            "epoch 65\n",
            "miss classified 9\n",
            "epoch 66\n",
            "miss classified 8\n",
            "epoch 67\n",
            "miss classified 8\n",
            "epoch 68\n",
            "miss classified 9\n",
            "epoch 69\n",
            "miss classified 9\n",
            "epoch 70\n",
            "miss classified 8\n",
            "epoch 71\n",
            "miss classified 8\n",
            "epoch 72\n",
            "miss classified 9\n",
            "epoch 73\n",
            "miss classified 9\n",
            "epoch 74\n",
            "miss classified 8\n",
            "epoch 75\n",
            "miss classified 8\n",
            "epoch 76\n",
            "miss classified 9\n",
            "epoch 77\n",
            "miss classified 9\n",
            "epoch 78\n",
            "miss classified 8\n",
            "epoch 79\n",
            "miss classified 9\n",
            "epoch 80\n",
            "miss classified 9\n",
            "epoch 81\n",
            "miss classified 9\n",
            "epoch 82\n",
            "miss classified 10\n",
            "epoch 83\n",
            "miss classified 8\n",
            "epoch 84\n",
            "miss classified 9\n",
            "epoch 85\n",
            "miss classified 9\n",
            "epoch 86\n",
            "miss classified 8\n",
            "epoch 87\n",
            "miss classified 9\n",
            "epoch 88\n",
            "miss classified 9\n",
            "epoch 89\n",
            "miss classified 8\n",
            "epoch 90\n",
            "miss classified 8\n",
            "epoch 91\n",
            "miss classified 9\n",
            "epoch 92\n",
            "miss classified 9\n",
            "epoch 93\n",
            "miss classified 8\n",
            "epoch 94\n",
            "miss classified 8\n",
            "epoch 95\n",
            "miss classified 8\n",
            "epoch 96\n",
            "miss classified 9\n",
            "epoch 97\n",
            "miss classified 9\n",
            "epoch 98\n",
            "miss classified 9\n",
            "epoch 99\n",
            "miss classified 9\n",
            "epoch 100\n",
            "miss classified 8\n"
          ]
        }
      ],
      "source": [
        "i = 0\n",
        "lr = 0.01\n",
        "w = np.ones(X1.shape[1])\n",
        "epoch = 100\n",
        "while i == 0 and epoch != 0:\n",
        "    miss_classified = 0\n",
        "    for item in range(len(data_matrix)):\n",
        "        x = data_matrix[item, :-1]\n",
        "        y = data_matrix[item, -1]\n",
        "        projection = np.dot(w, x)\n",
        "        if y*projection > 0:\n",
        "            continue\n",
        "        else:\n",
        "            w += lr*y*x\n",
        "            miss_classified += 1\n",
        "    print('epoch {}'.format(100 - epoch + 1))\n",
        "    print('miss classified {}'.format(miss_classified))\n",
        "    epoch -= 1\n",
        "    if miss_classified == 0:\n",
        "        i = 1"
      ]
    },
    {
      "cell_type": "code",
      "execution_count": null,
      "metadata": {
        "id": "M62o1t8xo0Cs",
        "outputId": "03095afb-6017-4443-a2d9-4004443a1804"
      },
      "outputs": [
        {
          "data": {
            "text/plain": [
              "array([-0.14136371, -0.15822438,  0.5       ])"
            ]
          },
          "execution_count": 37,
          "metadata": {},
          "output_type": "execute_result"
        }
      ],
      "source": [
        "w"
      ]
    },
    {
      "cell_type": "markdown",
      "metadata": {
        "id": "JiO5sOKpo0Cx"
      },
      "source": [
        "## Validation "
      ]
    },
    {
      "cell_type": "code",
      "execution_count": null,
      "metadata": {
        "id": "pp8qFKJCo0C0",
        "outputId": "2bbb00a9-6f88-45ce-b1d2-5eb74b8eb792"
      },
      "outputs": [
        {
          "data": {
            "text/plain": [
              "array([[1000,    0],\n",
              "       [ 675,  325]], dtype=int64)"
            ]
          },
          "execution_count": 38,
          "metadata": {},
          "output_type": "execute_result"
        }
      ],
      "source": [
        "y_pre = []\n",
        "for i in range(len(X_test)):\n",
        "    y_pre.append(np.sign(np.dot(w,X_test[i, ])))\n",
        "\n",
        "confusion_matrix(y_pre, y_test).T"
      ]
    },
    {
      "cell_type": "markdown",
      "metadata": {
        "id": "PqKemsgJo0C3"
      },
      "source": [
        "## Using sklearn package"
      ]
    },
    {
      "cell_type": "code",
      "execution_count": null,
      "metadata": {
        "id": "jCZ3kppJo0C5"
      },
      "outputs": [],
      "source": [
        "from sklearn.linear_model import Perceptron"
      ]
    },
    {
      "cell_type": "code",
      "execution_count": null,
      "metadata": {
        "id": "EC2dHU5so0C6",
        "outputId": "0e7d8765-50c3-47b3-9de8-5081009bd56f"
      },
      "outputs": [
        {
          "name": "stderr",
          "output_type": "stream",
          "text": [
            "C:\\Users\\Lenovo\\anaconda3\\lib\\site-packages\\sklearn\\utils\\validation.py:72: DataConversionWarning: A column-vector y was passed when a 1d array was expected. Please change the shape of y to (n_samples, ), for example using ravel().\n",
            "  return f(**kwargs)\n"
          ]
        },
        {
          "data": {
            "text/plain": [
              "Perceptron()"
            ]
          },
          "execution_count": 40,
          "metadata": {},
          "output_type": "execute_result"
        }
      ],
      "source": [
        "model = Perceptron(tol=0.001, random_state=0)\n",
        "model.fit(X, y_train)"
      ]
    },
    {
      "cell_type": "code",
      "execution_count": null,
      "metadata": {
        "id": "yy4fl__so0C8",
        "outputId": "1f78a6d2-af01-4c3e-f8b7-a20a92d38438"
      },
      "outputs": [
        {
          "name": "stdout",
          "output_type": "stream",
          "text": [
            "[[978  22]\n",
            " [159 841]]\n"
          ]
        },
        {
          "data": {
            "text/plain": [
              "array([[-13.02695273, -14.89075045,  37.        ]])"
            ]
          },
          "execution_count": 41,
          "metadata": {},
          "output_type": "execute_result"
        }
      ],
      "source": [
        "y_pre = model.predict(X_test)\n",
        "print(confusion_matrix(y_pre, y_test).T)\n",
        "model.coef_\n"
      ]
    },
    {
      "cell_type": "code",
      "execution_count": null,
      "metadata": {
        "id": "v5IJSW4Wo0C-"
      },
      "outputs": [],
      "source": [
        ""
      ]
    },
    {
      "cell_type": "markdown",
      "metadata": {
        "id": "8ZI5OSj5o0C-"
      },
      "source": [
        "## Least Square method"
      ]
    },
    {
      "cell_type": "code",
      "execution_count": null,
      "metadata": {
        "id": "1TlVbGubo0DA",
        "outputId": "e0878ae7-31ff-4380-f9be-456cd0bca0e3"
      },
      "outputs": [
        {
          "data": {
            "text/plain": [
              "array([[-0.34818799],\n",
              "       [-0.32987565],\n",
              "       [ 2.0199222 ]])"
            ]
          },
          "execution_count": 42,
          "metadata": {},
          "output_type": "execute_result"
        }
      ],
      "source": [
        "a = np.linalg.inv(np.dot(X.T, X))\n",
        "b = np.dot(X.T, y_train)\n",
        "W = np.dot(a, b)\n",
        "W"
      ]
    },
    {
      "cell_type": "code",
      "execution_count": null,
      "metadata": {
        "id": "trxPYKqbo0DB",
        "outputId": "ce7d6dee-333a-44e2-9c47-20690699840f"
      },
      "outputs": [
        {
          "data": {
            "text/plain": [
              "array([[1000,  675],\n",
              "       [   0,  325]], dtype=int64)"
            ]
          },
          "execution_count": 43,
          "metadata": {},
          "output_type": "execute_result"
        }
      ],
      "source": [
        "y_pre = []\n",
        "for i in range(len(X_test)):\n",
        "    y_pre.append(np.sign(np.dot(w,X_test[i, ])))\n",
        "\n",
        "confusion_matrix(y_pre, y_test)"
      ]
    },
    {
      "cell_type": "code",
      "execution_count": null,
      "metadata": {
        "id": "VHTjEyAto0DD"
      },
      "outputs": [],
      "source": [
        ""
      ]
    },
    {
      "cell_type": "code",
      "execution_count": null,
      "metadata": {
        "id": "-fP0Qlc6o0DE"
      },
      "outputs": [],
      "source": [
        ""
      ]
    }
  ],
  "metadata": {
    "kernelspec": {
      "display_name": "Python 3",
      "language": "python",
      "name": "python3"
    },
    "language_info": {
      "codemirror_mode": {
        "name": "ipython",
        "version": 3
      },
      "file_extension": ".py",
      "mimetype": "text/x-python",
      "name": "python",
      "nbconvert_exporter": "python",
      "pygments_lexer": "ipython3",
      "version": "3.8.5"
    },
    "colab": {
      "name": "Perceptron and LS.ipynb",
      "provenance": [],
      "include_colab_link": true
    }
  },
  "nbformat": 4,
  "nbformat_minor": 0
}