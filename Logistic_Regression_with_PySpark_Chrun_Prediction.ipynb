{
  "nbformat": 4,
  "nbformat_minor": 0,
  "metadata": {
    "colab": {
      "name": "Logistic_Regression_with_PySpark_Chrun_Prediction.ipynb",
      "provenance": [],
      "include_colab_link": true
    },
    "kernelspec": {
      "name": "python3",
      "display_name": "Python 3"
    },
    "language_info": {
      "name": "python"
    }
  },
  "cells": [
    {
      "cell_type": "markdown",
      "metadata": {
        "id": "view-in-github",
        "colab_type": "text"
      },
      "source": [
        "<a href=\"https://colab.research.google.com/github/rahatarinasir/Dayche/blob/master/Logistic_Regression_with_PySpark_Chrun_Prediction.ipynb\" target=\"_parent\"><img src=\"https://colab.research.google.com/assets/colab-badge.svg\" alt=\"Open In Colab\"/></a>"
      ]
    },
    {
      "cell_type": "code",
      "execution_count": null,
      "metadata": {
        "colab": {
          "base_uri": "https://localhost:8080/"
        },
        "id": "H7AjAScPE79r",
        "outputId": "f02f79e1-541b-41fa-caed-55e028a5ce3a"
      },
      "outputs": [
        {
          "output_type": "stream",
          "name": "stdout",
          "text": [
            "Looking in indexes: https://pypi.org/simple, https://us-python.pkg.dev/colab-wheels/public/simple/\n",
            "Collecting pyspark\n",
            "  Downloading pyspark-3.3.0.tar.gz (281.3 MB)\n",
            "\u001b[K     |████████████████████████████████| 281.3 MB 36 kB/s \n",
            "\u001b[?25hCollecting py4j\n",
            "  Downloading py4j-0.10.9.5-py2.py3-none-any.whl (199 kB)\n",
            "\u001b[K     |████████████████████████████████| 199 kB 48.4 MB/s \n",
            "\u001b[?25hBuilding wheels for collected packages: pyspark\n",
            "  Building wheel for pyspark (setup.py) ... \u001b[?25l\u001b[?25hdone\n",
            "  Created wheel for pyspark: filename=pyspark-3.3.0-py2.py3-none-any.whl size=281764026 sha256=64ad3d612c8306d1e4d4864335ae42977a7164df7c5f9bb306c4286b94c99478\n",
            "  Stored in directory: /root/.cache/pip/wheels/7a/8e/1b/f73a52650d2e5f337708d9f6a1750d451a7349a867f928b885\n",
            "Successfully built pyspark\n",
            "Installing collected packages: py4j, pyspark\n",
            "Successfully installed py4j-0.10.9.5 pyspark-3.3.0\n"
          ]
        }
      ],
      "source": [
        "!pip install pyspark py4j"
      ]
    },
    {
      "cell_type": "code",
      "source": [
        "from pyspark.sql import SparkSession"
      ],
      "metadata": {
        "id": "jcnTLC83FIN6"
      },
      "execution_count": null,
      "outputs": []
    },
    {
      "cell_type": "code",
      "source": [
        "spark = SparkSession.builder.appName(\"churn_pred\").getOrCreate()"
      ],
      "metadata": {
        "id": "vD_CAjQ7FQkm"
      },
      "execution_count": null,
      "outputs": []
    },
    {
      "cell_type": "code",
      "source": [
        "df = spark.read.csv(\"/content/drive/MyDrive/PySpark/customer_churn.csv\",header=True , inferSchema=True)"
      ],
      "metadata": {
        "id": "cGRzer8kGCJA"
      },
      "execution_count": null,
      "outputs": []
    },
    {
      "cell_type": "code",
      "source": [
        "df.printSchema()"
      ],
      "metadata": {
        "colab": {
          "base_uri": "https://localhost:8080/"
        },
        "id": "f4BP2aRhGWuR",
        "outputId": "0df6187e-52ef-481d-a11b-f86b156e38a7"
      },
      "execution_count": null,
      "outputs": [
        {
          "output_type": "stream",
          "name": "stdout",
          "text": [
            "root\n",
            " |-- Names: string (nullable = true)\n",
            " |-- Age: double (nullable = true)\n",
            " |-- Total_Purchase: double (nullable = true)\n",
            " |-- Account_Manager: integer (nullable = true)\n",
            " |-- Years: double (nullable = true)\n",
            " |-- Num_Sites: double (nullable = true)\n",
            " |-- Onboard_date: timestamp (nullable = true)\n",
            " |-- Location: string (nullable = true)\n",
            " |-- Company: string (nullable = true)\n",
            " |-- Churn: integer (nullable = true)\n",
            "\n"
          ]
        }
      ]
    },
    {
      "cell_type": "code",
      "source": [
        "df.describe().show()"
      ],
      "metadata": {
        "colab": {
          "base_uri": "https://localhost:8080/"
        },
        "id": "wo5LU0UCGdMF",
        "outputId": "c08b8a21-d150-46bd-e6c1-6090498a3f27"
      },
      "execution_count": null,
      "outputs": [
        {
          "output_type": "stream",
          "name": "stdout",
          "text": [
            "+-------+-------------+-----------------+-----------------+------------------+-----------------+------------------+--------------------+--------------------+-------------------+\n",
            "|summary|        Names|              Age|   Total_Purchase|   Account_Manager|            Years|         Num_Sites|            Location|             Company|              Churn|\n",
            "+-------+-------------+-----------------+-----------------+------------------+-----------------+------------------+--------------------+--------------------+-------------------+\n",
            "|  count|          900|              900|              900|               900|              900|               900|                 900|                 900|                900|\n",
            "|   mean|         null|41.81666666666667|10062.82403333334|0.4811111111111111| 5.27315555555555| 8.587777777777777|                null|                null|0.16666666666666666|\n",
            "| stddev|         null|6.127560416916251|2408.644531858096|0.4999208935073339|1.274449013194616|1.7648355920350969|                null|                null| 0.3728852122772358|\n",
            "|    min|   Aaron King|             22.0|            100.0|                 0|              1.0|               3.0|00103 Jeffrey Cre...|     Abbott-Thompson|                  0|\n",
            "|    max|Zachary Walsh|             65.0|         18026.01|                 1|             9.15|              14.0|Unit 9800 Box 287...|Zuniga, Clark and...|                  1|\n",
            "+-------+-------------+-----------------+-----------------+------------------+-----------------+------------------+--------------------+--------------------+-------------------+\n",
            "\n"
          ]
        }
      ]
    },
    {
      "cell_type": "code",
      "source": [
        "df.columns"
      ],
      "metadata": {
        "colab": {
          "base_uri": "https://localhost:8080/"
        },
        "id": "NEkeRqzkGldc",
        "outputId": "c46e7500-0693-4578-8a3a-e18b56477ef7"
      },
      "execution_count": null,
      "outputs": [
        {
          "output_type": "execute_result",
          "data": {
            "text/plain": [
              "['Names',\n",
              " 'Age',\n",
              " 'Total_Purchase',\n",
              " 'Account_Manager',\n",
              " 'Years',\n",
              " 'Num_Sites',\n",
              " 'Onboard_date',\n",
              " 'Location',\n",
              " 'Company',\n",
              " 'Churn']"
            ]
          },
          "metadata": {},
          "execution_count": 8
        }
      ]
    },
    {
      "cell_type": "code",
      "source": [
        "df.dtypes"
      ],
      "metadata": {
        "colab": {
          "base_uri": "https://localhost:8080/"
        },
        "id": "rNFTk7I5GzpC",
        "outputId": "25048131-820c-4dcc-8cb1-4a961d574de3"
      },
      "execution_count": null,
      "outputs": [
        {
          "output_type": "execute_result",
          "data": {
            "text/plain": [
              "[('Names', 'string'),\n",
              " ('Age', 'double'),\n",
              " ('Total_Purchase', 'double'),\n",
              " ('Account_Manager', 'int'),\n",
              " ('Years', 'double'),\n",
              " ('Num_Sites', 'double'),\n",
              " ('Onboard_date', 'timestamp'),\n",
              " ('Location', 'string'),\n",
              " ('Company', 'string'),\n",
              " ('Churn', 'int')]"
            ]
          },
          "metadata": {},
          "execution_count": 10
        }
      ]
    },
    {
      "cell_type": "code",
      "source": [
        "from pyspark.ml.feature import VectorAssembler"
      ],
      "metadata": {
        "id": "kUxlyAqqG25V"
      },
      "execution_count": null,
      "outputs": []
    },
    {
      "cell_type": "code",
      "source": [
        "assembler = VectorAssembler(inputCols=[\n",
        "#  'Names',\n",
        " 'Age',\n",
        " 'Total_Purchase',\n",
        " 'Account_Manager',\n",
        " 'Years',\n",
        " 'Num_Sites',\n",
        "#  'Onboard_date',\n",
        "#  'Location',\n",
        "#  'Company',\n",
        "#  'Churn'\n",
        " ],\n",
        " outputCol=\"features\")"
      ],
      "metadata": {
        "id": "D4zsQiZxHH6l"
      },
      "execution_count": null,
      "outputs": []
    },
    {
      "cell_type": "code",
      "source": [
        "output = assembler.transform(df)"
      ],
      "metadata": {
        "id": "B_L2DA_BHYWm"
      },
      "execution_count": null,
      "outputs": []
    },
    {
      "cell_type": "code",
      "source": [
        "df_final = output.select(\"features\",\"churn\")"
      ],
      "metadata": {
        "id": "oI4BY9UcIvIr"
      },
      "execution_count": null,
      "outputs": []
    },
    {
      "cell_type": "code",
      "source": [
        "df_final.show()"
      ],
      "metadata": {
        "colab": {
          "base_uri": "https://localhost:8080/"
        },
        "id": "X2Jc4iVKJBhb",
        "outputId": "e749bb10-8218-42d7-8a51-350fe2b108e3"
      },
      "execution_count": null,
      "outputs": [
        {
          "output_type": "stream",
          "name": "stdout",
          "text": [
            "+--------------------+-----+\n",
            "|            features|churn|\n",
            "+--------------------+-----+\n",
            "|[42.0,11066.8,0.0...|    1|\n",
            "|[41.0,11916.22,0....|    1|\n",
            "|[38.0,12884.75,0....|    1|\n",
            "|[42.0,8010.76,0.0...|    1|\n",
            "|[37.0,9191.58,0.0...|    1|\n",
            "|[48.0,10356.02,0....|    1|\n",
            "|[44.0,11331.58,1....|    1|\n",
            "|[32.0,9885.12,1.0...|    1|\n",
            "|[43.0,14062.6,1.0...|    1|\n",
            "|[40.0,8066.94,1.0...|    1|\n",
            "|[30.0,11575.37,1....|    1|\n",
            "|[45.0,8771.02,1.0...|    1|\n",
            "|[45.0,8988.67,1.0...|    1|\n",
            "|[40.0,8283.32,1.0...|    1|\n",
            "|[41.0,6569.87,1.0...|    1|\n",
            "|[38.0,10494.82,1....|    1|\n",
            "|[45.0,8213.41,1.0...|    1|\n",
            "|[43.0,11226.88,0....|    1|\n",
            "|[53.0,5515.09,0.0...|    1|\n",
            "|[46.0,8046.4,1.0,...|    1|\n",
            "+--------------------+-----+\n",
            "only showing top 20 rows\n",
            "\n"
          ]
        }
      ]
    },
    {
      "cell_type": "code",
      "source": [
        "train , test = df_final.randomSplit([0.8,0.2])"
      ],
      "metadata": {
        "id": "0fCSUlFYJCvo"
      },
      "execution_count": null,
      "outputs": []
    },
    {
      "cell_type": "code",
      "source": [
        "from pyspark.ml.classification import LogisticRegression"
      ],
      "metadata": {
        "id": "-ATaxfZUJO9v"
      },
      "execution_count": null,
      "outputs": []
    },
    {
      "cell_type": "code",
      "source": [
        "lr = LogisticRegression(labelCol=\"churn\")"
      ],
      "metadata": {
        "id": "ulxNDuTlJStL"
      },
      "execution_count": null,
      "outputs": []
    },
    {
      "cell_type": "code",
      "source": [
        "lrm = lr.fit(train)"
      ],
      "metadata": {
        "id": "A9q-ool2Jhae"
      },
      "execution_count": null,
      "outputs": []
    },
    {
      "cell_type": "code",
      "source": [
        "lrm.summary"
      ],
      "metadata": {
        "colab": {
          "base_uri": "https://localhost:8080/"
        },
        "id": "96ws_aOZJmKd",
        "outputId": "3e1de90e-f97b-4504-fb1d-ab4efd0b648e"
      },
      "execution_count": null,
      "outputs": [
        {
          "output_type": "execute_result",
          "data": {
            "text/plain": [
              "<pyspark.ml.classification.BinaryLogisticRegressionTrainingSummary at 0x7f83d342b710>"
            ]
          },
          "metadata": {},
          "execution_count": 27
        }
      ]
    },
    {
      "cell_type": "code",
      "source": [
        "lrm.summary.accuracy"
      ],
      "metadata": {
        "colab": {
          "base_uri": "https://localhost:8080/"
        },
        "id": "sguj4R6IJo3-",
        "outputId": "3e29816a-f0f5-4a20-ca6c-e38b6bd9cd20"
      },
      "execution_count": null,
      "outputs": [
        {
          "output_type": "execute_result",
          "data": {
            "text/plain": [
              "0.9008264462809917"
            ]
          },
          "metadata": {},
          "execution_count": 28
        }
      ]
    },
    {
      "cell_type": "code",
      "source": [
        "lrm.summary.areaUnderROC"
      ],
      "metadata": {
        "colab": {
          "base_uri": "https://localhost:8080/"
        },
        "id": "a01Qery6J1X_",
        "outputId": "62e22525-b028-4769-f345-4ab4689510c9"
      },
      "execution_count": null,
      "outputs": [
        {
          "output_type": "execute_result",
          "data": {
            "text/plain": [
              "0.9112879457707043"
            ]
          },
          "metadata": {},
          "execution_count": 32
        }
      ]
    },
    {
      "cell_type": "code",
      "source": [
        "lrm.summary.predictions.show()"
      ],
      "metadata": {
        "colab": {
          "base_uri": "https://localhost:8080/"
        },
        "id": "KjncMtxaJuwS",
        "outputId": "1f68a409-efb9-47ab-96c1-507666f9ae75"
      },
      "execution_count": null,
      "outputs": [
        {
          "output_type": "stream",
          "name": "stdout",
          "text": [
            "+--------------------+-----+--------------------+--------------------+----------+\n",
            "|            features|churn|       rawPrediction|         probability|prediction|\n",
            "+--------------------+-----+--------------------+--------------------+----------+\n",
            "|[22.0,11254.38,1....|  0.0|[5.08099498428111...|[0.99382464854368...|       0.0|\n",
            "|[25.0,9672.03,0.0...|  0.0|[5.02688685077914...|[0.99348354414542...|       0.0|\n",
            "|[26.0,8787.39,1.0...|  1.0|[0.95504124691572...|[0.72212788249845...|       0.0|\n",
            "|[28.0,8670.98,0.0...|  0.0|[8.18523192302290...|[0.99972133790075...|       0.0|\n",
            "|[28.0,9090.43,1.0...|  0.0|[1.81534695451316...|[0.86000686119937...|       0.0|\n",
            "|[28.0,11128.95,1....|  0.0|[4.54746566713651...|[0.98951703754350...|       0.0|\n",
            "|[28.0,11204.23,0....|  0.0|[2.22297822921711...|[0.90229406960740...|       0.0|\n",
            "|[28.0,11245.38,0....|  0.0|[3.99922957358199...|[0.98200017716787...|       0.0|\n",
            "|[29.0,5900.78,1.0...|  0.0|[4.39301705330870...|[0.98778761432430...|       0.0|\n",
            "|[29.0,8688.17,1.0...|  1.0|[2.99416473439379...|[0.95230981173657...|       0.0|\n",
            "|[29.0,9378.24,0.0...|  0.0|[5.08580628677486...|[0.99385410650152...|       0.0|\n",
            "|[29.0,9617.59,0.0...|  0.0|[4.73528382745224...|[0.99129646021518...|       0.0|\n",
            "|[29.0,10203.18,1....|  0.0|[4.07987871067470...|[0.98337166070503...|       0.0|\n",
            "|[29.0,11274.46,1....|  0.0|[4.89016654141535...|[0.99253596089166...|       0.0|\n",
            "|[29.0,12711.15,0....|  0.0|[5.68497707547073...|[0.99661488679867...|       0.0|\n",
            "|[29.0,13240.01,1....|  0.0|[7.15474460481398...|[0.99921946068592...|       0.0|\n",
            "|[30.0,6744.87,0.0...|  0.0|[3.76533665182881...|[0.97736442165812...|       0.0|\n",
            "|[30.0,10744.14,1....|  1.0|[1.95553070136521...|[0.87604845729539...|       0.0|\n",
            "|[30.0,10960.52,1....|  0.0|[2.68048170422977...|[0.93586504235583...|       0.0|\n",
            "|[30.0,11575.37,1....|  1.0|[4.32360888047685...|[0.98692134560920...|       0.0|\n",
            "+--------------------+-----+--------------------+--------------------+----------+\n",
            "only showing top 20 rows\n",
            "\n"
          ]
        }
      ]
    },
    {
      "cell_type": "code",
      "source": [
        "lrm.summary.predictions.describe().show()"
      ],
      "metadata": {
        "colab": {
          "base_uri": "https://localhost:8080/"
        },
        "id": "XjUCQp1kJxzJ",
        "outputId": "68b40f41-8163-4acf-f2a8-9ce95cf1c292"
      },
      "execution_count": null,
      "outputs": [
        {
          "output_type": "stream",
          "name": "stdout",
          "text": [
            "+-------+-------------------+-------------------+\n",
            "|summary|              churn|         prediction|\n",
            "+-------+-------------------+-------------------+\n",
            "|  count|                726|                726|\n",
            "|   mean|0.16115702479338842|0.12534435261707988|\n",
            "| stddev| 0.3679292062699649| 0.3313372360848368|\n",
            "|    min|                0.0|                0.0|\n",
            "|    max|                1.0|                1.0|\n",
            "+-------+-------------------+-------------------+\n",
            "\n"
          ]
        }
      ]
    },
    {
      "cell_type": "code",
      "source": [
        "from pyspark.ml.evaluation import BinaryClassificationEvaluator"
      ],
      "metadata": {
        "id": "JxcnLJprKAlV"
      },
      "execution_count": null,
      "outputs": []
    },
    {
      "cell_type": "code",
      "source": [
        "pred_labels = lrm.evaluate(test)"
      ],
      "metadata": {
        "id": "_GkMfzO0KMVh"
      },
      "execution_count": null,
      "outputs": []
    },
    {
      "cell_type": "code",
      "source": [
        "pred_labels.predictions.show()"
      ],
      "metadata": {
        "colab": {
          "base_uri": "https://localhost:8080/"
        },
        "id": "xk_Rdj0fKSxr",
        "outputId": "1f7aaa91-6615-4f06-d943-9973d98d82ce"
      },
      "execution_count": null,
      "outputs": [
        {
          "output_type": "stream",
          "name": "stdout",
          "text": [
            "+--------------------+-----+--------------------+--------------------+----------+\n",
            "|            features|churn|       rawPrediction|         probability|prediction|\n",
            "+--------------------+-----+--------------------+--------------------+----------+\n",
            "|[26.0,8939.61,0.0...|    0|[6.77319428533299...|[0.99885727288346...|       0.0|\n",
            "|[27.0,8628.8,1.0,...|    0|[5.81400928727858...|[0.99702344972921...|       0.0|\n",
            "|[29.0,13255.05,1....|    0|[4.53822265133025...|[0.98942072399806...|       0.0|\n",
            "|[30.0,7960.64,1.0...|    1|[3.55310942492720...|[0.97216170126281...|       0.0|\n",
            "|[30.0,8403.78,1.0...|    0|[6.31631382154242...|[0.99819666722117...|       0.0|\n",
            "|[30.0,8677.28,1.0...|    0|[4.36480403632186...|[0.98744254793424...|       0.0|\n",
            "|[30.0,8874.83,0.0...|    0|[3.43245675288004...|[0.96870363471561...|       0.0|\n",
            "|[30.0,10183.98,1....|    0|[3.20903519234107...|[0.96117287534045...|       0.0|\n",
            "|[30.0,13473.35,0....|    0|[3.10432436302006...|[0.95707076878213...|       0.0|\n",
            "|[31.0,10182.6,1.0...|    0|[5.18556104749018...|[0.99443435411664...|       0.0|\n",
            "|[31.0,11297.57,1....|    1|[1.21678849569933...|[0.77149789057454...|       0.0|\n",
            "|[32.0,8617.98,1.0...|    1|[1.25786918544886...|[0.77865908184350...|       0.0|\n",
            "|[32.0,9885.12,1.0...|    1|[1.98611980825150...|[0.87933202682009...|       0.0|\n",
            "|[32.0,11540.86,0....|    0|[7.17983676331900...|[0.99923878770115...|       0.0|\n",
            "|[32.0,12403.6,0.0...|    0|[5.93379265599460...|[0.99735857721554...|       0.0|\n",
            "|[33.0,7492.9,0.0,...|    0|[4.98638916738875...|[0.99321605324887...|       0.0|\n",
            "|[34.0,6131.92,0.0...|    0|[4.08605295254813...|[0.98347232017234...|       0.0|\n",
            "|[34.0,9228.84,1.0...|    1|[-0.7818835651790...|[0.31391407668888...|       1.0|\n",
            "|[34.0,9265.59,0.0...|    0|[4.21000212488902...|[0.98537085246011...|       0.0|\n",
            "|[34.0,9919.38,0.0...|    0|[5.00474097311287...|[0.99333859373336...|       0.0|\n",
            "+--------------------+-----+--------------------+--------------------+----------+\n",
            "only showing top 20 rows\n",
            "\n"
          ]
        }
      ]
    },
    {
      "cell_type": "code",
      "source": [
        "eval = BinaryClassificationEvaluator(rawPredictionCol=\"prediction\" , labelCol='churn')"
      ],
      "metadata": {
        "id": "jnj8xojJKV03"
      },
      "execution_count": null,
      "outputs": []
    },
    {
      "cell_type": "code",
      "source": [
        "auc = eval.evaluate(pred_labels.predictions)"
      ],
      "metadata": {
        "id": "0NTGzCtbK5gW"
      },
      "execution_count": null,
      "outputs": []
    },
    {
      "cell_type": "code",
      "source": [
        "auc"
      ],
      "metadata": {
        "colab": {
          "base_uri": "https://localhost:8080/"
        },
        "id": "sGB3i1UtLEuG",
        "outputId": "d82af15f-67bc-4c06-b306-82df0f4f3364"
      },
      "execution_count": null,
      "outputs": [
        {
          "output_type": "execute_result",
          "data": {
            "text/plain": [
              "0.6827852998065764"
            ]
          },
          "metadata": {},
          "execution_count": 45
        }
      ]
    }
  ]
}