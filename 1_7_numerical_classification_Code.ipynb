{
  "cells": [
    {
      "cell_type": "markdown",
      "metadata": {
        "id": "view-in-github",
        "colab_type": "text"
      },
      "source": [
        "<a href=\"https://colab.research.google.com/github/rahatarinasir/Dayche/blob/master/1_7_numerical_classification_Code.ipynb\" target=\"_parent\"><img src=\"https://colab.research.google.com/assets/colab-badge.svg\" alt=\"Open In Colab\"/></a>"
      ]
    },
    {
      "cell_type": "markdown",
      "metadata": {
        "id": "hu2e57i7ienP"
      },
      "source": [
        "## Initialization"
      ]
    },
    {
      "cell_type": "code",
      "execution_count": null,
      "metadata": {
        "id": "HekBKY9KienV"
      },
      "outputs": [],
      "source": [
        "from sklearn.neural_network import MLPClassifier\n",
        "import numpy as np \n",
        "from sklearn.model_selection import train_test_split\n",
        "from sklearn.preprocessing import StandardScaler, MinMaxScaler\n",
        "from sklearn.metrics import confusion_matrix"
      ]
    },
    {
      "cell_type": "markdown",
      "metadata": {
        "id": "s5tCRTx8ienc"
      },
      "source": [
        "### Data generation"
      ]
    },
    {
      "cell_type": "code",
      "execution_count": null,
      "metadata": {
        "id": "jknvE3TKienf"
      },
      "outputs": [],
      "source": [
        "np.random.seed(200)\n",
        "N = 1000\n",
        "X1 = 2 + np.random.randn(N, 2)\n",
        "X2 = 40 + np.random.randn(N, 2)\n",
        "X_train = np.vstack((X1, X2))\n",
        "scaler_x = MinMaxScaler().fit(X_train)\n",
        "X_train = scaler_x.transform(X_train)\n",
        "y1, y2 = np.ones((N, 1)), np.zeros((N, 1))\n",
        "y_train = np.vstack((y1, y2))\n",
        "X_test_1 = 2 + np.random.randn(N, 2)\n",
        "X_test_2 = 40 + np.random.randn(N, 2)\n",
        "X_test = np.vstack((X_test_1, X_test_2))\n",
        "X_test = scaler_x.transform(X_test)\n",
        "y1, y2 = np.ones((N, 1)), np.zeros((N, 1))\n",
        "y_test = np.vstack((y1, y2))"
      ]
    },
    {
      "cell_type": "markdown",
      "metadata": {
        "id": "J42zykaZienj"
      },
      "source": [
        "### Modeling - using sklearn"
      ]
    },
    {
      "cell_type": "code",
      "execution_count": null,
      "metadata": {
        "id": "z7M9emh3ienl",
        "outputId": "5f339871-6a42-4af5-ea58-0fabb0c4d96d"
      },
      "outputs": [
        {
          "name": "stderr",
          "output_type": "stream",
          "text": [
            "C:\\Users\\Lenovo\\anaconda3\\lib\\site-packages\\sklearn\\utils\\validation.py:72: DataConversionWarning: A column-vector y was passed when a 1d array was expected. Please change the shape of y to (n_samples, ), for example using ravel().\n",
            "  return f(**kwargs)\n"
          ]
        },
        {
          "data": {
            "text/plain": [
              "MLPClassifier(activation='logistic', hidden_layer_sizes=(10,), max_iter=500)"
            ]
          },
          "execution_count": 10,
          "metadata": {},
          "output_type": "execute_result"
        }
      ],
      "source": [
        "model = MLPClassifier((10, ), max_iter = 500, activation = 'logistic')\n",
        "model.fit(X_train, y_train)"
      ]
    },
    {
      "cell_type": "code",
      "execution_count": null,
      "metadata": {
        "id": "XFrHioLAienn",
        "outputId": "4db5bd75-5783-4569-bdda-656835bff3be"
      },
      "outputs": [
        {
          "data": {
            "text/plain": [
              "array([[1., 0.],\n",
              "       [0., 1.]])"
            ]
          },
          "execution_count": 11,
          "metadata": {},
          "output_type": "execute_result"
        }
      ],
      "source": [
        "y_pre = model.predict(X_test)\n",
        "confusion_matrix(y_pre, y_test).T/1000"
      ]
    },
    {
      "cell_type": "code",
      "execution_count": null,
      "metadata": {
        "id": "60LcLi7zienp"
      },
      "outputs": [],
      "source": [
        ""
      ]
    },
    {
      "cell_type": "code",
      "execution_count": null,
      "metadata": {
        "id": "uWDHxXmMienq"
      },
      "outputs": [],
      "source": [
        ""
      ]
    }
  ],
  "metadata": {
    "kernelspec": {
      "display_name": "Python 3",
      "language": "python",
      "name": "python3"
    },
    "language_info": {
      "codemirror_mode": {
        "name": "ipython",
        "version": 3
      },
      "file_extension": ".py",
      "mimetype": "text/x-python",
      "name": "python",
      "nbconvert_exporter": "python",
      "pygments_lexer": "ipython3",
      "version": "3.8.5"
    },
    "colab": {
      "name": "1-7-numerical classification-Code.ipynb",
      "provenance": [],
      "include_colab_link": true
    }
  },
  "nbformat": 4,
  "nbformat_minor": 0
}