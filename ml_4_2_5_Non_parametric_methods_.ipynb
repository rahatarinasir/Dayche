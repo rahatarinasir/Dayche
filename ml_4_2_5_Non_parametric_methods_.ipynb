{
  "cells": [
    {
      "cell_type": "markdown",
      "metadata": {
        "id": "view-in-github",
        "colab_type": "text"
      },
      "source": [
        "<a href=\"https://colab.research.google.com/github/rahatarinasir/Dayche/blob/master/ml_4_2_5_Non_parametric_methods_.ipynb\" target=\"_parent\"><img src=\"https://colab.research.google.com/assets/colab-badge.svg\" alt=\"Open In Colab\"/></a>"
      ]
    },
    {
      "cell_type": "markdown",
      "metadata": {
        "id": "H5hSfIIeni7N"
      },
      "source": [
        "# KNN"
      ]
    },
    {
      "cell_type": "markdown",
      "metadata": {
        "id": "PXKqbdzuni7X"
      },
      "source": [
        "## Initialization"
      ]
    },
    {
      "cell_type": "code",
      "execution_count": null,
      "metadata": {
        "id": "GJU16LRYni7c"
      },
      "outputs": [],
      "source": [
        "import numpy as np\n",
        "from scipy.stats import mode\n",
        "from sklearn.metrics import confusion_matrix"
      ]
    },
    {
      "cell_type": "markdown",
      "metadata": {
        "id": "X88Bvx8Wni7i"
      },
      "source": [
        "## Define the Class"
      ]
    },
    {
      "cell_type": "code",
      "execution_count": null,
      "metadata": {
        "id": "sTGLTNFani7n"
      },
      "outputs": [],
      "source": [
        "class KNN(object):\n",
        "    def __init__(self):\n",
        "        self.x_train = None\n",
        "        self.label = None\n",
        "\n",
        "    def fit(self, x_train, label):\n",
        "        self.x_train = x_train\n",
        "        if self.x_train.shape[0] < self.x_train.shape[1]:\n",
        "            self.x_train = self.x_train.T\n",
        "        self._input_dimension = self.x_train.shape[1]\n",
        "        self.label = label\n",
        "\n",
        "    def predict(self, x, k):\n",
        "        self.k = k\n",
        "        self._xtest = x\n",
        "        self.__distance(k)\n",
        "        return self.final_label\n",
        "\n",
        "    def __distance(self, k):\n",
        "        self._metrics = np.linalg.norm(self._xtest.reshape(1, self._input_dimension) - self.x_train, axis=1)\n",
        "        self.__sort(k)\n",
        "\n",
        "    def __sort(self, k):\n",
        "        index = np.argsort(self._metrics)\n",
        "        self.label_sort = self.label[index]\n",
        "        self.final_label = mode(self.label_sort[0:k])[0][0]\n"
      ]
    },
    {
      "cell_type": "code",
      "execution_count": null,
      "metadata": {
        "id": "zjf68vwdni7t"
      },
      "outputs": [],
      "source": [
        "N = 1000\n",
        "X1 = 2 + np.random.randn(N, 1)\n",
        "y1 = np.zeros((N, 1))\n",
        "X2 = 4 + np.random.randn(N, 1)\n",
        "y2 = np.ones((N, 1))\n",
        "X_train = np.vstack((X1, X2))\n",
        "y_train = np.vstack((y1, y2))\n",
        "\n",
        "X1 = 2 + np.random.randn(int(N/2), 1)\n",
        "y1 = np.zeros((int(N/2), 1))\n",
        "X2 = 4 + np.random.randn(int(N/2), 1)\n",
        "y2 = np.ones((int(N/2), 1))\n",
        "\n",
        "X_test = np.vstack((X1, X2))\n",
        "y_test = np.vstack((y1, y2))\n"
      ]
    },
    {
      "cell_type": "markdown",
      "metadata": {
        "id": "URP7WZHFni7x"
      },
      "source": [
        "## Create an object "
      ]
    },
    {
      "cell_type": "code",
      "execution_count": null,
      "metadata": {
        "id": "NmW__pOkni70"
      },
      "outputs": [],
      "source": [
        "model = KNN()\n",
        "model.fit(X_train, y_train)"
      ]
    },
    {
      "cell_type": "code",
      "execution_count": null,
      "metadata": {
        "id": "_73xm5O1ni72"
      },
      "outputs": [],
      "source": [
        "y_pre = []\n",
        "k = 10\n",
        "for i in range(len(X_test)):\n",
        "    y_pre.append(model.predict(X_test[i, ], k))"
      ]
    },
    {
      "cell_type": "code",
      "execution_count": null,
      "metadata": {
        "id": "1l_mN_aoni74",
        "outputId": "bb722581-5040-4f82-f232-5140c71e73a7"
      },
      "outputs": [
        {
          "data": {
            "text/plain": [
              "array([[0.81 , 0.202],\n",
              "       [0.19 , 0.798]])"
            ]
          },
          "execution_count": 134,
          "metadata": {},
          "output_type": "execute_result"
        }
      ],
      "source": [
        "2*confusion_matrix(y_pre, y_test)/len(X_test)"
      ]
    },
    {
      "cell_type": "markdown",
      "metadata": {
        "id": "jlMnKbu3ni76"
      },
      "source": [
        "## Using Sklearn Package "
      ]
    },
    {
      "cell_type": "code",
      "execution_count": null,
      "metadata": {
        "id": "J-WF0JAbni78",
        "outputId": "66fc87a0-995b-4772-c1d8-f35cd88b7e29"
      },
      "outputs": [
        {
          "name": "stderr",
          "output_type": "stream",
          "text": [
            "C:\\Users\\Lenovo\\anaconda3\\lib\\site-packages\\ipykernel_launcher.py:3: DataConversionWarning: A column-vector y was passed when a 1d array was expected. Please change the shape of y to (n_samples, ), for example using ravel().\n",
            "  This is separate from the ipykernel package so we can avoid doing imports until\n"
          ]
        },
        {
          "data": {
            "text/plain": [
              "KNeighborsClassifier(n_neighbors=10)"
            ]
          },
          "execution_count": 135,
          "metadata": {},
          "output_type": "execute_result"
        }
      ],
      "source": [
        "from sklearn.neighbors import KNeighborsClassifier\n",
        "model = KNeighborsClassifier(n_neighbors=10)\n",
        "model.fit(X_train, y_train)"
      ]
    },
    {
      "cell_type": "code",
      "execution_count": null,
      "metadata": {
        "id": "L_LSu_NNni79",
        "outputId": "017759b1-84c1-4e1e-8c1c-a261136e1d7e"
      },
      "outputs": [
        {
          "data": {
            "text/plain": [
              "array([[0.81 , 0.202],\n",
              "       [0.19 , 0.798]])"
            ]
          },
          "execution_count": 136,
          "metadata": {},
          "output_type": "execute_result"
        }
      ],
      "source": [
        "y_pre = model.predict(X_test)\n",
        "2*confusion_matrix(y_pre, y_test)/len(X_test)"
      ]
    },
    {
      "cell_type": "markdown",
      "metadata": {
        "id": "J4ueP8k9ni7_"
      },
      "source": [
        "# Parzen density estimation\n"
      ]
    },
    {
      "cell_type": "code",
      "execution_count": null,
      "metadata": {
        "id": "YEWfvxItni8A"
      },
      "outputs": [],
      "source": [
        "class Parzen(object):\n",
        "    def __init__(self):\n",
        "        self.x_train = None\n",
        "\n",
        "    def fit(self, x_train, h):\n",
        "        self.h = h\n",
        "        self.x_train = x_train\n",
        "        self.dimension = self.x_train.shape[1]\n",
        "\n",
        "    def __kernel(self, x):\n",
        "        self.__distance = (x.reshape(1, self.dimension) - self.x_train)/self.h\n",
        "\n",
        "    def __p(self, x):\n",
        "        self.__kernel(x)\n",
        "        index = np.where(np.abs(self.__distance) < 0.55)\n",
        "        self.__distance[index[0]] = 1\n",
        "        self.__distance[self.__distance != 1] = 0\n",
        "        self.sum = np.sum(self.__distance)\n",
        "        return np.sum(self.__distance)/(len(self.x_train)*(self.h**self.dimension))\n",
        "\n",
        "    def predict(self, x):\n",
        "        y_pre = self.__p(x)\n",
        "        return y_pre"
      ]
    },
    {
      "cell_type": "code",
      "execution_count": null,
      "metadata": {
        "id": "TC22C3Ldni8B"
      },
      "outputs": [],
      "source": [
        "model1 = Parzen()\n",
        "model2 = Parzen()\n",
        "h = 1\n",
        "model1.fit(X1, h)\n",
        "model2.fit(X2, h)\n",
        "y_pre = []\n",
        "for i in range(len(X_test)):\n",
        "    p1 = model1.predict(X_test[i, ])\n",
        "    p2 = model2.predict(X_test[i, ])\n",
        "    if p1 >= p2:\n",
        "        y_pre.append(0)\n",
        "    else:\n",
        "        y_pre.append(1) "
      ]
    },
    {
      "cell_type": "code",
      "execution_count": null,
      "metadata": {
        "id": "Y5A8NUPDni8D",
        "outputId": "f629bf47-0099-4a55-868e-70404276d596"
      },
      "outputs": [
        {
          "data": {
            "text/plain": [
              "array([[0.832, 0.168],\n",
              "       [0.168, 0.832]])"
            ]
          },
          "execution_count": 139,
          "metadata": {},
          "output_type": "execute_result"
        }
      ],
      "source": [
        "2*confusion_matrix(y_pre, y_test)/len(X_test)"
      ]
    },
    {
      "cell_type": "code",
      "execution_count": null,
      "metadata": {
        "id": "ltW0pvFVni8E"
      },
      "outputs": [],
      "source": [
        ""
      ]
    }
  ],
  "metadata": {
    "kernelspec": {
      "display_name": "Python 3",
      "language": "python",
      "name": "python3"
    },
    "language_info": {
      "codemirror_mode": {
        "name": "ipython",
        "version": 3
      },
      "file_extension": ".py",
      "mimetype": "text/x-python",
      "name": "python",
      "nbconvert_exporter": "python",
      "pygments_lexer": "ipython3",
      "version": "3.8.5"
    },
    "colab": {
      "name": "ml-4-2-5-Non-parametric-methods .ipynb",
      "provenance": [],
      "include_colab_link": true
    }
  },
  "nbformat": 4,
  "nbformat_minor": 0
}