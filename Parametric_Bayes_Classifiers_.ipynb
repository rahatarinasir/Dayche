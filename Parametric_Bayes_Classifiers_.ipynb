{
  "cells": [
    {
      "cell_type": "markdown",
      "metadata": {
        "id": "view-in-github",
        "colab_type": "text"
      },
      "source": [
        "<a href=\"https://colab.research.google.com/github/rahatarinasir/Dayche/blob/master/Parametric_Bayes_Classifiers_.ipynb\" target=\"_parent\"><img src=\"https://colab.research.google.com/assets/colab-badge.svg\" alt=\"Open In Colab\"/></a>"
      ]
    },
    {
      "cell_type": "markdown",
      "metadata": {
        "id": "0ho4zvzboUom"
      },
      "source": [
        "# Initialization "
      ]
    },
    {
      "cell_type": "code",
      "execution_count": null,
      "metadata": {
        "id": "JsmXi27_oUou"
      },
      "outputs": [],
      "source": [
        "import math \n",
        "import numpy as np \n",
        "import matplotlib.pyplot as plt\n",
        "from sklearn.metrics import confusion_matrix, accuracy_score, precision_score, recall_score, classification_report"
      ]
    },
    {
      "cell_type": "markdown",
      "metadata": {
        "id": "jx6HB-E5oUo3"
      },
      "source": [
        "## Data Generation  "
      ]
    },
    {
      "cell_type": "code",
      "execution_count": null,
      "metadata": {
        "id": "kz5wzreKoUo8",
        "outputId": "737d1c19-8983-4b97-a6b2-8089f6562fae"
      },
      "outputs": [
        {
          "data": {
            "text/plain": [
              "[<matplotlib.lines.Line2D at 0x243d1da2250>]"
            ]
          },
          "execution_count": 18,
          "metadata": {},
          "output_type": "execute_result"
        },
        {
          "data": {
            "image/png": "[encoded data removed]",
            "text/plain": [
              "<Figure size 432x288 with 1 Axes>"
            ]
          },
          "metadata": {
            "needs_background": "light"
          },
          "output_type": "display_data"
        }
      ],
      "source": [
        "N = 1000\n",
        "Xtrain_1 = 2 + np.random.randn(N, 1)\n",
        "ytrain_1 = np.zeros((N, 1))\n",
        "Xtrain_2 = 4 + np.random.randn(N, 1)\n",
        "ytrain_2 = np.ones((N, 1))\n",
        "X_train = np.vstack((Xtrain_1, Xtrain_2))\n",
        "y_train = np.vstack((ytrain_1, ytrain_2))\n",
        "\n",
        "Xtest_1 = 2 + np.random.randn(int(N/2), 1)\n",
        "ytest_1 = np.zeros((int(N/2), 1))\n",
        "Xtest_2 = 4 + np.random.randn(int(N/2), 1)\n",
        "ytest_2 = np.ones((int(N/2), 1))\n",
        "\n",
        "X_test = np.vstack((Xtest_1, Xtest_2))\n",
        "y_test = np.vstack((ytest_1, ytest_2))\n",
        "plt.plot(X_test)"
      ]
    },
    {
      "cell_type": "code",
      "execution_count": null,
      "metadata": {
        "id": "wT4LrKlpoUpD"
      },
      "outputs": [],
      "source": [
        "def mean(X):\n",
        "    return sum(X)/float(len(X))\n",
        "\n",
        "# m = np.mean(X)\n",
        "def stdv(X):\n",
        "    avg = mean(X)\n",
        "    variance = sum([(x - avg)**2 for x in X])/float(len(X) - 1)\n",
        "    return math.sqrt(variance)\n",
        "# std = np.std(X)"
      ]
    },
    {
      "cell_type": "code",
      "execution_count": null,
      "metadata": {
        "id": "-0FIImHroUpH",
        "outputId": "9fef110e-31e8-4a48-d572-40e32c649c84"
      },
      "outputs": [
        {
          "name": "stdout",
          "output_type": "stream",
          "text": [
            "[2.01956519] 2.0195651933532677\n"
          ]
        }
      ],
      "source": [
        "print(mean(Xtrain_1), np.mean(Xtrain_1))"
      ]
    },
    {
      "cell_type": "code",
      "execution_count": null,
      "metadata": {
        "id": "iU9fGEleoUpM",
        "outputId": "b1b177f9-82b5-4b9e-fe6e-4782fc42ab7e"
      },
      "outputs": [
        {
          "name": "stdout",
          "output_type": "stream",
          "text": [
            "0.9890779444892427 0.9885832818203991\n"
          ]
        }
      ],
      "source": [
        "print(stdv(Xtrain_1), np.std(Xtrain_1))"
      ]
    },
    {
      "cell_type": "markdown",
      "metadata": {
        "id": "lBhzu4lsoUpO"
      },
      "source": [
        "## Calculate the probability for each class"
      ]
    },
    {
      "cell_type": "code",
      "execution_count": null,
      "metadata": {
        "id": "en5I1NYIoUpQ"
      },
      "outputs": [],
      "source": [
        "def calculate_probability(x, mean, stdev, prior):\n",
        "    exponent = math.exp(-((x-mean)**2 / (2 * stdev**2 )))\n",
        "    return prior*(1 / (math.sqrt(2 * math.pi) * stdev)) * exponent"
      ]
    },
    {
      "cell_type": "markdown",
      "metadata": {
        "id": "fNKDWlvhoUpT"
      },
      "source": [
        "## Classification"
      ]
    },
    {
      "cell_type": "code",
      "execution_count": null,
      "metadata": {
        "id": "1olO79HGoUpV"
      },
      "outputs": [],
      "source": [
        "m1 = mean(Xtrain_1)\n",
        "m2 = mean(Xtrain_2)\n",
        "s1 = stdv(Xtrain_1)\n",
        "s2 = stdv(Xtrain_2)\n",
        "p = 0.5\n",
        "label = []\n",
        "for item in range(len(X_test)):\n",
        "    p1 = calculate_probability(X_test[item],m1, s1, p)\n",
        "    p2 = calculate_probability(X_test[item], m2, s2, 1-p)\n",
        "    if p1 > p2:\n",
        "        label.append(0)\n",
        "    else:\n",
        "        label.append(1)"
      ]
    },
    {
      "cell_type": "code",
      "execution_count": null,
      "metadata": {
        "id": "FUAumbwboUpZ",
        "outputId": "37886e69-1722-43f7-e03d-2dd8a7fc490d"
      },
      "outputs": [
        {
          "data": {
            "text/plain": [
              "array([[0.82 , 0.18 ],\n",
              "       [0.176, 0.824]])"
            ]
          },
          "execution_count": 26,
          "metadata": {},
          "output_type": "execute_result"
        }
      ],
      "source": [
        "2*confusion_matrix(np.array(label), y_test).T/len(y_test)"
      ]
    },
    {
      "cell_type": "code",
      "execution_count": null,
      "metadata": {
        "id": "guMFx5BIoUpa",
        "outputId": "929bf0af-2c48-45fd-f8d5-629e8f6ada9c"
      },
      "outputs": [
        {
          "data": {
            "text/plain": [
              "0.829"
            ]
          },
          "execution_count": 11,
          "metadata": {},
          "output_type": "execute_result"
        }
      ],
      "source": [
        "accuracy_score(np.array(label), y_test)"
      ]
    },
    {
      "cell_type": "code",
      "execution_count": null,
      "metadata": {
        "id": "FyoSNwkWoUpd",
        "outputId": "7d40dad3-9518-46f9-eb06-c4441f472eee"
      },
      "outputs": [
        {
          "data": {
            "text/plain": [
              "0.856"
            ]
          },
          "execution_count": 12,
          "metadata": {},
          "output_type": "execute_result"
        }
      ],
      "source": [
        " precision_score(np.array(label), y_test)"
      ]
    },
    {
      "cell_type": "code",
      "execution_count": null,
      "metadata": {
        "id": "PIZ_1_-ToUpf",
        "outputId": "3e6cead0-3fb5-47b4-f806-a6be375e5b6d"
      },
      "outputs": [
        {
          "data": {
            "text/plain": [
              "0.8496868475991649"
            ]
          },
          "execution_count": 13,
          "metadata": {},
          "output_type": "execute_result"
        }
      ],
      "source": [
        "0.814/(0.814 + 0.144)"
      ]
    },
    {
      "cell_type": "code",
      "execution_count": null,
      "metadata": {
        "id": "rhm2kDoBoUpg",
        "outputId": "42934fbd-d360-4247-968d-7e79f2a9767c"
      },
      "outputs": [
        {
          "data": {
            "text/plain": [
              "0.8121442125237192"
            ]
          },
          "execution_count": 14,
          "metadata": {},
          "output_type": "execute_result"
        }
      ],
      "source": [
        "recall_score(np.array(label), y_test)"
      ]
    },
    {
      "cell_type": "code",
      "execution_count": null,
      "metadata": {
        "id": "5Ul9QdCaoUph"
      },
      "outputs": [],
      "source": [
        "from sklearn.naive_bayes import GaussianNB"
      ]
    },
    {
      "cell_type": "code",
      "execution_count": null,
      "metadata": {
        "id": "zuqVWv_coUpj",
        "outputId": "3f241d4e-3bc0-44cd-df08-573a78c359cb"
      },
      "outputs": [
        {
          "name": "stderr",
          "output_type": "stream",
          "text": [
            "C:\\Users\\Lenovo\\anaconda3\\lib\\site-packages\\sklearn\\utils\\validation.py:72: DataConversionWarning: A column-vector y was passed when a 1d array was expected. Please change the shape of y to (n_samples, ), for example using ravel().\n",
            "  return f(**kwargs)\n"
          ]
        },
        {
          "data": {
            "text/plain": [
              "GaussianNB()"
            ]
          },
          "execution_count": 38,
          "metadata": {},
          "output_type": "execute_result"
        }
      ],
      "source": [
        "gnb = GaussianNB()\n",
        "gnb.fit(X_train, y_train)"
      ]
    },
    {
      "cell_type": "code",
      "execution_count": null,
      "metadata": {
        "id": "2DHI0GVwoUpk"
      },
      "outputs": [],
      "source": [
        "y_pre = gnb.predict(X_test)"
      ]
    },
    {
      "cell_type": "code",
      "execution_count": null,
      "metadata": {
        "id": "PvJ_V8KfoUpl",
        "outputId": "1620e75c-9327-4fe5-bfe9-c7d5e8dcff64"
      },
      "outputs": [
        {
          "data": {
            "text/plain": [
              "array([[0.856, 0.186],\n",
              "       [0.144, 0.814]])"
            ]
          },
          "execution_count": 40,
          "metadata": {},
          "output_type": "execute_result"
        }
      ],
      "source": [
        "2*confusion_matrix(y_pre, y_test)/len(y_test)"
      ]
    },
    {
      "cell_type": "code",
      "execution_count": null,
      "metadata": {
        "id": "LtC8-KmeoUpm"
      },
      "outputs": [],
      "source": [
        ""
      ]
    }
  ],
  "metadata": {
    "kernelspec": {
      "display_name": "Python 3",
      "language": "python",
      "name": "python3"
    },
    "language_info": {
      "codemirror_mode": {
        "name": "ipython",
        "version": 3
      },
      "file_extension": ".py",
      "mimetype": "text/x-python",
      "name": "python",
      "nbconvert_exporter": "python",
      "pygments_lexer": "ipython3",
      "version": "3.8.5"
    },
    "colab": {
      "name": "Parametric Bayes Classifiers .ipynb",
      "provenance": [],
      "include_colab_link": true
    }
  },
  "nbformat": 4,
  "nbformat_minor": 0
}